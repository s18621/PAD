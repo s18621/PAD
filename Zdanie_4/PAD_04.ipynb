{
  "nbformat": 4,
  "nbformat_minor": 0,
  "metadata": {
    "colab": {
      "name": "PAD_04.ipynb",
      "provenance": [],
      "collapsed_sections": [],
      "authorship_tag": "ABX9TyPHpV6cmQSGjevJCV2FqcL4"
    },
    "kernelspec": {
      "name": "python3",
      "display_name": "Python 3"
    },
    "language_info": {
      "name": "python"
    }
  },
  "cells": [
    {
      "cell_type": "code",
      "execution_count": null,
      "metadata": {
        "id": "abJStKBC1hqq"
      },
      "outputs": [],
      "source": [
        "import numpy as np"
      ]
    },
    {
      "cell_type": "code",
      "source": [
        "from google.colab import drive\n",
        "drive.mount('/content/drive')"
      ],
      "metadata": {
        "colab": {
          "base_uri": "https://localhost:8080/"
        },
        "id": "GRqcMvRC63y2",
        "outputId": "67d0e439-a14b-42eb-db4a-cd634cbc2357"
      },
      "execution_count": 2,
      "outputs": [
        {
          "output_type": "stream",
          "name": "stdout",
          "text": [
            "Mounted at /content/drive\n"
          ]
        }
      ]
    },
    {
      "cell_type": "code",
      "source": [
        "PATH_1 ='./drive/MyDrive/Dane/Zadanie_1.csv'\n",
        "PATH_2 ='./drive/MyDrive/Dane/Zadanie_2.csv'\n",
        "PATH_4 ='./drive/MyDrive/Dane/Zadanie_4.csv'"
      ],
      "metadata": {
        "id": "vaVE2Y4_655d"
      },
      "execution_count": 3,
      "outputs": []
    },
    {
      "cell_type": "markdown",
      "source": [
        "# Zadanie 1 (4 punkty)\n",
        "*   Ile komórek liczy sobie macierz\n",
        "*   Ile ma wierszy a ile kolumn\n",
        "*   Oblicz następujące statystyki opisowe dla macierzy: średnia/mediana/wariancja\n",
        "*   Powtórz czynność z podpunktu b), ale tym razem usuń z macierzy braki danych.\n"
      ],
      "metadata": {
        "id": "26K9c-v28F1J"
      }
    },
    {
      "cell_type": "code",
      "source": [
        "import pandas as pd\n",
        "\n",
        "df = pd.read_csv(PATH_1, sep = ';')\n",
        "dm = df.to_numpy()\n",
        "\n",
        "print(f'Liczba komórek: {np.size(dm)}')\n",
        "print(f'Liczba kolumn i wierszy: {np.shape(dm)}')\n",
        "print(f'Średnia: {np.mean(dm)}')\n",
        "print(f'Mediana: {np.median(dm)}')\n",
        "print(f'Wariancja: {np.var(dm)}')\n",
        "dn = df.dropna().to_numpy()\n",
        "print('Wartości po usunięciu wartości NaN')\n",
        "print(f'Liczba kolumn i wierszy: {np.shape(dn)}')\n",
        "print(f'Średnia: {np.mean(dn).round(2)}')\n",
        "print(f'Mediana: {np.median(dn)}')\n",
        "print(f'Wariancja: {np.var(dn).round(2)}')"
      ],
      "metadata": {
        "colab": {
          "base_uri": "https://localhost:8080/"
        },
        "id": "qZzNeTDP7UV3",
        "outputId": "d203e163-e5c1-4c86-89e0-3503f07ad86a"
      },
      "execution_count": null,
      "outputs": [
        {
          "output_type": "stream",
          "name": "stdout",
          "text": [
            "Liczba komórek: 960\n",
            "Liczba kolumn i wierszy: (60, 16)\n",
            "Średnia: nan\n",
            "Mediana: nan\n",
            "Wariacja: nan\n",
            "Wartości po usunięciu wartości NaN\n",
            "Liczba kolumn i wierszy: (43, 16)\n",
            "Średnia: 332.2\n",
            "Mediana: 34.0\n",
            "Wariacja: 1042134.75\n"
          ]
        }
      ]
    },
    {
      "cell_type": "markdown",
      "source": [
        "# Zadanie 2 (2 pkt)\n",
        "Wgraj dane z pliku Zadanie_2.csv.\n",
        " >a)\tZnajdź wektory własne, oraz wartości własne dla zawartej w pliku macierzy\n",
        "---\n",
        " >b)\tOblicz macierz odwrotną dla macierzy z pliku\n"
      ],
      "metadata": {
        "id": "mM7K6BRmAQPy"
      }
    },
    {
      "cell_type": "code",
      "source": [
        "dv = np.genfromtxt(PATH_2, delimiter=';')\n",
        "print(f'Macierz z pliku:\\n {dv}')\n",
        "print(f'Wektory własne\\n: {np.linalg.eig(dv)}')\n",
        "print(f'Wartości własne\\n: {np.linalg.eigvals(dv)}')\n",
        "print(f'Macierz odwrotna\\n: {np.linalg.inv(dv)}')"
      ],
      "metadata": {
        "colab": {
          "base_uri": "https://localhost:8080/"
        },
        "id": "SlkGmo4oBEDL",
        "outputId": "9f9158eb-41bb-4d00-a3ec-ed219bdb2d9a"
      },
      "execution_count": null,
      "outputs": [
        {
          "output_type": "stream",
          "name": "stdout",
          "text": [
            "Macierz z pliku:\n",
            " [[  1.   2.  15. -59.   9.   3.  75.   6.   7.   1.]\n",
            " [  0.   5.   0.   4.   6.  16.  44.   7.   1.   1.]\n",
            " [  7.  14.   3. -10.   9.  15.  73.   8.   2.   9.]\n",
            " [  1.   5.  15. -54.   5.  15.  35.   8.   6.   4.]\n",
            " [  0.   8.   5. -18.   7.  16.  91.   6.   7.   9.]\n",
            " [  7.  18.  23. -90.   4.   8.  31.   0.   1.   7.]\n",
            " [  2.   8.  20. -72.   4.   1.  91.   9.   4.   4.]\n",
            " [  4.  12.  18. -65.   6.   9.  76.   4.   9.   9.]\n",
            " [  7.  15.  13. -52.   5.   7.  54.   2.   7.   0.]\n",
            " [  2.   9.  15. -56.   6.   1.  98.   4.   8.   4.]]\n",
            "Wektory własne\n",
            ": (array([104.34960192 +0.j        , -23.35660516+18.84992811j,\n",
            "       -23.35660516-18.84992811j,  15.92989017 +0.j        ,\n",
            "        -4.99456452 +0.j        ,   0.35205717 +5.80125175j,\n",
            "         0.35205717 -5.80125175j,  -1.03383491 +0.j        ,\n",
            "         3.87900166 +1.42651533j,   3.87900166 -1.42651533j]), array([[-0.29000475+0.j        , -0.07545445+0.07743149j,\n",
            "        -0.07545445-0.07743149j, -0.03544485+0.j        ,\n",
            "         0.42681634+0.j        , -0.22172831-0.29869259j,\n",
            "        -0.22172831+0.29869259j,  0.41343726+0.j        ,\n",
            "        -0.28670255+0.21891569j, -0.28670255-0.21891569j],\n",
            "       [-0.24163153+0.j        ,  0.41229621+0.09197324j,\n",
            "         0.41229621-0.09197324j,  0.45873475+0.j        ,\n",
            "        -0.27056206+0.j        , -0.01331344+0.1422557j ,\n",
            "        -0.01331344-0.1422557j , -0.31591047+0.j        ,\n",
            "         0.41954481-0.10561864j,  0.41954481+0.10561864j],\n",
            "       [-0.41060573+0.j        ,  0.37509638-0.00960818j,\n",
            "         0.37509638+0.00960818j,  0.64067986+0.j        ,\n",
            "        -0.37967609+0.j        , -0.60525232+0.j        ,\n",
            "        -0.60525232-0.j        ,  0.6457768 +0.j        ,\n",
            "         0.63631555+0.j        ,  0.63631555-0.j        ],\n",
            "       [-0.18899971+0.j        , -0.05624951+0.174848j  ,\n",
            "        -0.05624951-0.174848j  ,  0.25174536+0.j        ,\n",
            "        -0.07625465+0.j        , -0.14870016-0.00795735j,\n",
            "        -0.14870016+0.00795735j,  0.15206852+0.j        ,\n",
            "         0.21373907+0.00228636j,  0.21373907-0.00228636j],\n",
            "       [-0.42862199+0.j        ,  0.47707538+0.14580554j,\n",
            "         0.47707538-0.14580554j,  0.39445834+0.j        ,\n",
            "        -0.69542141+0.j        ,  0.07336021-0.43070469j,\n",
            "         0.07336021+0.43070469j, -0.25948775+0.j        ,\n",
            "         0.20250102-0.00411374j,  0.20250102+0.00411374j],\n",
            "       [-0.14730562+0.j        , -0.57352911+0.j        ,\n",
            "        -0.57352911-0.j        ,  0.10071325+0.j        ,\n",
            "         0.30158403+0.j        , -0.04758838+0.12911829j,\n",
            "        -0.04758838-0.12911829j,  0.21274791+0.j        ,\n",
            "        -0.1503483 +0.03452906j, -0.1503483 -0.03452906j],\n",
            "       [-0.34660607+0.j        , -0.13987374+0.06837303j,\n",
            "        -0.13987374-0.06837303j, -0.04800705+0.j        ,\n",
            "         0.06798106+0.j        ,  0.00512204+0.04215641j,\n",
            "         0.00512204-0.04215641j,  0.05365357+0.j        ,\n",
            "        -0.0534517 +0.00550802j, -0.0534517 -0.00550802j],\n",
            "       [-0.34919853+0.j        , -0.08414467+0.07749664j,\n",
            "        -0.08414467-0.07749664j,  0.25925893+0.j        ,\n",
            "        -0.10039982+0.j        , -0.06761437-0.25584347j,\n",
            "        -0.06761437+0.25584347j, -0.38214447+0.j        ,\n",
            "         0.29485109-0.01300678j,  0.29485109+0.01300678j],\n",
            "       [-0.2440048 +0.j        , -0.13777908+0.00402196j,\n",
            "        -0.13777908-0.00402196j,  0.27709282+0.j        ,\n",
            "        -0.00524365+0.j        ,  0.21866893+0.04463336j,\n",
            "         0.21866893-0.04463336j, -0.12045798+0.j        ,\n",
            "         0.27558332+0.02285482j,  0.27558332-0.02285482j],\n",
            "       [-0.38231403+0.j        , -0.00476199+0.03456836j,\n",
            "        -0.00476199-0.03456836j,  0.04918165+0.j        ,\n",
            "         0.07322815+0.j        ,  0.1819345 -0.29687727j,\n",
            "         0.1819345 +0.29687727j, -0.11445044+0.j        ,\n",
            "         0.02830199+0.00579727j,  0.02830199-0.00579727j]]))\n",
            "Wartości własne\n",
            ": [104.34960192 +0.j         -23.35660516+18.84992811j\n",
            " -23.35660516-18.84992811j  15.92989017 +0.j\n",
            "  -4.99456452 +0.j           0.35205717 +5.80125175j\n",
            "   0.35205717 -5.80125175j  -1.03383491 +0.j\n",
            "   3.87900166 +1.42651533j   3.87900166 -1.42651533j]\n",
            "Macierz odwrotna\n",
            ": [[ 0.47461371  0.13269253 -0.24726695 -0.82965177  0.28250384 -0.17012825\n",
            "   0.58274426  0.83686705  0.4146721  -1.56942847]\n",
            " [-0.38032531 -0.11226789  0.23216372  0.58853747 -0.2508954   0.10174485\n",
            "  -0.40729564 -0.58325689 -0.2335154   1.11832726]\n",
            " [ 0.13559662  0.58950334 -0.24709855 -0.58789838 -0.30170699 -0.12721938\n",
            "   0.23740295  1.01003036 -0.02151387 -0.64590149]\n",
            " [ 0.01425207  0.14570726 -0.04557569 -0.12721972 -0.08945184 -0.03756624\n",
            "   0.03910376  0.23606066 -0.01436771 -0.11345749]\n",
            " [-0.09473246  0.01725249  0.19145597  0.32960274 -0.28626296  0.08348529\n",
            "  -0.37577603 -0.27295934 -0.25855803  0.74691827]\n",
            " [ 0.16387032  0.10075684 -0.15404907 -0.29794662  0.16916877 -0.02827782\n",
            "   0.20469921  0.28036265  0.15086178 -0.5882585 ]\n",
            " [ 0.04288003  0.02246462 -0.0366803  -0.09024915  0.04322146 -0.01047861\n",
            "   0.06167348  0.07009721  0.0367806  -0.14185925]\n",
            " [-0.26858433 -0.21167346  0.25168367  0.55607234 -0.16804333  0.01066975\n",
            "  -0.22435849 -0.52957038 -0.15757224  0.77302113]\n",
            " [-0.15583541 -0.13041404  0.0984558   0.3150966  -0.09916278 -0.04426337\n",
            "  -0.20832614 -0.18404388 -0.04309498  0.45794224]\n",
            " [-0.05970783 -0.11342903  0.09122544  0.11908074 -0.00311646  0.02370807\n",
            "  -0.07526552 -0.06924544 -0.10963836  0.16553689]]\n"
          ]
        }
      ]
    },
    {
      "cell_type": "markdown",
      "source": [
        "#Zadanie 3 (4 punkty)\n",
        "Wgraj dane z pliku Zadanie_3.csv\n",
        "Wykorzystaj następujący wzór:\n",
        "\n",
        "![xD.png](data:image/png;base64,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)\n",
        "\n",
        "Gdzie A i B to wektory reprezentujące kolejne kolumny.\n",
        "\n",
        "Aby stworzyć macierz podobieństwa w oparciu o macierz z pliku.\n"
      ],
      "metadata": {
        "id": "lFhORkJUD3Dl"
      }
    },
    {
      "cell_type": "code",
      "source": [
        "\n",
        "MA ='./drive/MyDrive/Dane/Zadanie_3_macierz_A.csv'\n",
        "MB ='./drive/MyDrive/Dane/Zadanie_3_macierz_B.csv'\n",
        "m1 = np.genfromtxt(MA, delimiter=',')\n",
        "m2 = np.genfromtxt(MB, delimiter=',')\n",
        "\n",
        "def cos_sim_2d(x, y):\n",
        "    norm_x = x / np.linalg.norm(x, axis=1, keepdims=True)\n",
        "    norm_y = y / np.linalg.norm(y, axis=1, keepdims=True)\n",
        "    return np.matmul(norm_x, norm_y.T)\n",
        "\n",
        "print(cos_sim_2d(m1, m2))"
      ],
      "metadata": {
        "colab": {
          "base_uri": "https://localhost:8080/"
        },
        "id": "DVJX5s__FLdO",
        "outputId": "c1491471-d920-46cc-cc3a-4b2dcf0c4428"
      },
      "execution_count": null,
      "outputs": [
        {
          "output_type": "stream",
          "name": "stdout",
          "text": [
            "[[0.7970534  0.93075784 0.85152689 0.80479273 0.86772183]\n",
            " [0.3985267  0.56879646 0.57428557 0.32694705 0.97618706]\n",
            " [0.92108283 0.9763075  0.91890016 0.9336035  0.69421013]]\n"
          ]
        }
      ]
    },
    {
      "cell_type": "markdown",
      "source": [
        "https://towardsdatascience.com/cosine-similarity-matrix-using-broadcasting-in-python-2b1998ab3ff3\n",
        "\n",
        "https://www.tutorialexample.com/compute-cosine-similarity-matrix-of-two-numpy-array-numpy-tutorial/"
      ],
      "metadata": {
        "id": "9qZCjxPwH_YA"
      }
    },
    {
      "cell_type": "markdown",
      "source": [
        "# Zadanie 4 (3 punkty)\n",
        "W pliku Zadanie_4.csv zawarte są dane o stanie dostępności gabinetu lekarskiego w danej minucie.\n",
        "Napisz program, który przekształci dane w taki sposób, żeby w jednej linijce zapisany był początek i koniec przedziału czasowego, kiedy lekarz jest dostępny\n",
        "Dane zapisz do pliku CSV.\n"
      ],
      "metadata": {
        "id": "msacfPjlesOF"
      }
    },
    {
      "cell_type": "markdown",
      "source": [
        "https://stackoverflow.com/questions/41399538/comparing-previous-row-values-in-pandas-dataframe"
      ],
      "metadata": {
        "id": "DtME3JBYvQfM"
      }
    },
    {
      "cell_type": "code",
      "source": [
        "import pandas as pd\n",
        "import datetime\n",
        "from datetime import datetime\n",
        "\n",
        "\n",
        "df_zf = pd.read_csv(PATH_4, sep = ';').dropna(axis = 1)\n",
        "df_zf['Data'] = df_zf['DateTime'].apply(lambda x: datetime.strptime(x, '%d.%m.%Y %H:%M').strftime(\"%d.%m.%Y\"))\n",
        "df_zf['Czas'] = df_zf['DateTime'].apply(lambda x: datetime.strptime(x, '%d.%m.%Y %H:%M').strftime(\"%H:%M\"))\n",
        "df_zf2 = df_zf.groupby(['Data','DoctorID','Type','City'], as_index = False).agg({'DateTime':['min', 'max']})\n",
        "df_zf2"
      ],
      "metadata": {
        "colab": {
          "base_uri": "https://localhost:8080/",
          "height": 238
        },
        "id": "_9oNIU0MbdPL",
        "outputId": "131c3361-0f6b-4874-dbdb-1443aa4920f7"
      },
      "execution_count": 6,
      "outputs": [
        {
          "output_type": "execute_result",
          "data": {
            "text/plain": [
              "         Data DoctorID           Type    City          DateTime  \\\n",
              "                                                            min   \n",
              "0  10.04.2020        4  Opthomologist  Krakow  10.04.2020 13:20   \n",
              "1  16.03.2020        1             GP  Warsaw  16.03.2020 12:00   \n",
              "2  16.03.2020        2             GP  Krakow  16.03.2020 12:00   \n",
              "3  22.03.2020        3        Sugreon  Warsaw  22.03.2020 08:01   \n",
              "4  29.03.2020        1             GP  Warsaw  29.03.2020 14:00   \n",
              "\n",
              "                     \n",
              "                max  \n",
              "0  10.04.2020 13:34  \n",
              "1  16.03.2020 14:01  \n",
              "2  16.03.2020 12:49  \n",
              "3  22.03.2020 09:06  \n",
              "4  29.03.2020 14:37  "
            ],
            "text/html": [
              "\n",
              "  <div id=\"df-a3b7ee10-9bc4-4eb0-a130-bd341b8684c6\">\n",
              "    <div class=\"colab-df-container\">\n",
              "      <div>\n",
              "<style scoped>\n",
              "    .dataframe tbody tr th:only-of-type {\n",
              "        vertical-align: middle;\n",
              "    }\n",
              "\n",
              "    .dataframe tbody tr th {\n",
              "        vertical-align: top;\n",
              "    }\n",
              "\n",
              "    .dataframe thead tr th {\n",
              "        text-align: left;\n",
              "    }\n",
              "</style>\n",
              "<table border=\"1\" class=\"dataframe\">\n",
              "  <thead>\n",
              "    <tr>\n",
              "      <th></th>\n",
              "      <th>Data</th>\n",
              "      <th>DoctorID</th>\n",
              "      <th>Type</th>\n",
              "      <th>City</th>\n",
              "      <th colspan=\"2\" halign=\"left\">DateTime</th>\n",
              "    </tr>\n",
              "    <tr>\n",
              "      <th></th>\n",
              "      <th></th>\n",
              "      <th></th>\n",
              "      <th></th>\n",
              "      <th></th>\n",
              "      <th>min</th>\n",
              "      <th>max</th>\n",
              "    </tr>\n",
              "  </thead>\n",
              "  <tbody>\n",
              "    <tr>\n",
              "      <th>0</th>\n",
              "      <td>10.04.2020</td>\n",
              "      <td>4</td>\n",
              "      <td>Opthomologist</td>\n",
              "      <td>Krakow</td>\n",
              "      <td>10.04.2020 13:20</td>\n",
              "      <td>10.04.2020 13:34</td>\n",
              "    </tr>\n",
              "    <tr>\n",
              "      <th>1</th>\n",
              "      <td>16.03.2020</td>\n",
              "      <td>1</td>\n",
              "      <td>GP</td>\n",
              "      <td>Warsaw</td>\n",
              "      <td>16.03.2020 12:00</td>\n",
              "      <td>16.03.2020 14:01</td>\n",
              "    </tr>\n",
              "    <tr>\n",
              "      <th>2</th>\n",
              "      <td>16.03.2020</td>\n",
              "      <td>2</td>\n",
              "      <td>GP</td>\n",
              "      <td>Krakow</td>\n",
              "      <td>16.03.2020 12:00</td>\n",
              "      <td>16.03.2020 12:49</td>\n",
              "    </tr>\n",
              "    <tr>\n",
              "      <th>3</th>\n",
              "      <td>22.03.2020</td>\n",
              "      <td>3</td>\n",
              "      <td>Sugreon</td>\n",
              "      <td>Warsaw</td>\n",
              "      <td>22.03.2020 08:01</td>\n",
              "      <td>22.03.2020 09:06</td>\n",
              "    </tr>\n",
              "    <tr>\n",
              "      <th>4</th>\n",
              "      <td>29.03.2020</td>\n",
              "      <td>1</td>\n",
              "      <td>GP</td>\n",
              "      <td>Warsaw</td>\n",
              "      <td>29.03.2020 14:00</td>\n",
              "      <td>29.03.2020 14:37</td>\n",
              "    </tr>\n",
              "  </tbody>\n",
              "</table>\n",
              "</div>\n",
              "      <button class=\"colab-df-convert\" onclick=\"convertToInteractive('df-a3b7ee10-9bc4-4eb0-a130-bd341b8684c6')\"\n",
              "              title=\"Convert this dataframe to an interactive table.\"\n",
              "              style=\"display:none;\">\n",
              "        \n",
              "  <svg xmlns=\"http://www.w3.org/2000/svg\" height=\"24px\"viewBox=\"0 0 24 24\"\n",
              "       width=\"24px\">\n",
              "    <path d=\"M0 0h24v24H0V0z\" fill=\"none\"/>\n",
              "    <path d=\"M18.56 5.44l.94 2.06.94-2.06 2.06-.94-2.06-.94-.94-2.06-.94 2.06-2.06.94zm-11 1L8.5 8.5l.94-2.06 2.06-.94-2.06-.94L8.5 2.5l-.94 2.06-2.06.94zm10 10l.94 2.06.94-2.06 2.06-.94-2.06-.94-.94-2.06-.94 2.06-2.06.94z\"/><path d=\"M17.41 7.96l-1.37-1.37c-.4-.4-.92-.59-1.43-.59-.52 0-1.04.2-1.43.59L10.3 9.45l-7.72 7.72c-.78.78-.78 2.05 0 2.83L4 21.41c.39.39.9.59 1.41.59.51 0 1.02-.2 1.41-.59l7.78-7.78 2.81-2.81c.8-.78.8-2.07 0-2.86zM5.41 20L4 18.59l7.72-7.72 1.47 1.35L5.41 20z\"/>\n",
              "  </svg>\n",
              "      </button>\n",
              "      \n",
              "  <style>\n",
              "    .colab-df-container {\n",
              "      display:flex;\n",
              "      flex-wrap:wrap;\n",
              "      gap: 12px;\n",
              "    }\n",
              "\n",
              "    .colab-df-convert {\n",
              "      background-color: #E8F0FE;\n",
              "      border: none;\n",
              "      border-radius: 50%;\n",
              "      cursor: pointer;\n",
              "      display: none;\n",
              "      fill: #1967D2;\n",
              "      height: 32px;\n",
              "      padding: 0 0 0 0;\n",
              "      width: 32px;\n",
              "    }\n",
              "\n",
              "    .colab-df-convert:hover {\n",
              "      background-color: #E2EBFA;\n",
              "      box-shadow: 0px 1px 2px rgba(60, 64, 67, 0.3), 0px 1px 3px 1px rgba(60, 64, 67, 0.15);\n",
              "      fill: #174EA6;\n",
              "    }\n",
              "\n",
              "    [theme=dark] .colab-df-convert {\n",
              "      background-color: #3B4455;\n",
              "      fill: #D2E3FC;\n",
              "    }\n",
              "\n",
              "    [theme=dark] .colab-df-convert:hover {\n",
              "      background-color: #434B5C;\n",
              "      box-shadow: 0px 1px 3px 1px rgba(0, 0, 0, 0.15);\n",
              "      filter: drop-shadow(0px 1px 2px rgba(0, 0, 0, 0.3));\n",
              "      fill: #FFFFFF;\n",
              "    }\n",
              "  </style>\n",
              "\n",
              "      <script>\n",
              "        const buttonEl =\n",
              "          document.querySelector('#df-a3b7ee10-9bc4-4eb0-a130-bd341b8684c6 button.colab-df-convert');\n",
              "        buttonEl.style.display =\n",
              "          google.colab.kernel.accessAllowed ? 'block' : 'none';\n",
              "\n",
              "        async function convertToInteractive(key) {\n",
              "          const element = document.querySelector('#df-a3b7ee10-9bc4-4eb0-a130-bd341b8684c6');\n",
              "          const dataTable =\n",
              "            await google.colab.kernel.invokeFunction('convertToInteractive',\n",
              "                                                     [key], {});\n",
              "          if (!dataTable) return;\n",
              "\n",
              "          const docLinkHtml = 'Like what you see? Visit the ' +\n",
              "            '<a target=\"_blank\" href=https://colab.research.google.com/notebooks/data_table.ipynb>data table notebook</a>'\n",
              "            + ' to learn more about interactive tables.';\n",
              "          element.innerHTML = '';\n",
              "          dataTable['output_type'] = 'display_data';\n",
              "          await google.colab.output.renderOutput(dataTable, element);\n",
              "          const docLink = document.createElement('div');\n",
              "          docLink.innerHTML = docLinkHtml;\n",
              "          element.appendChild(docLink);\n",
              "        }\n",
              "      </script>\n",
              "    </div>\n",
              "  </div>\n",
              "  "
            ]
          },
          "metadata": {},
          "execution_count": 6
        }
      ]
    }
  ]
}