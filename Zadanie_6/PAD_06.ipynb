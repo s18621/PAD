{
  "nbformat": 4,
  "nbformat_minor": 0,
  "metadata": {
    "colab": {
      "name": "PAD_06.ipynb",
      "provenance": [],
      "authorship_tag": "ABX9TyO2JtPzQ16JpsRlM1DWUshw",
      "include_colab_link": true
    },
    "kernelspec": {
      "name": "python3",
      "display_name": "Python 3"
    },
    "language_info": {
      "name": "python"
    }
  },
  "cells": [
    {
      "cell_type": "markdown",
      "metadata": {
        "id": "view-in-github",
        "colab_type": "text"
      },
      "source": [
        "<a href=\"https://colab.research.google.com/github/s18621/PAD/blob/main/Zadanie_6/PAD_06.ipynb\" target=\"_parent\"><img src=\"https://colab.research.google.com/assets/colab-badge.svg\" alt=\"Open In Colab\"/></a>"
      ]
    },
    {
      "cell_type": "markdown",
      "source": [
        "#Zadanie 1\n",
        "Wejdź na stronę https://www.pap.pl/ i sprawdź czy pozwala ona na web scraping sprawdzając plik robots.txt"
      ],
      "metadata": {
        "id": "gF2c1GOZkSKN"
      }
    },
    {
      "cell_type": "markdown",
      "source": [
        "Tak, strona akceptuje web scraping"
      ],
      "metadata": {
        "id": "ssEu_XQDdvMi"
      }
    },
    {
      "cell_type": "markdown",
      "source": [
        "#Stwórz obiekt driver, który połączy się ze stroną Polskiej Agencji Prasowej. \n",
        "A następnie:\n",
        "- Zaakceptuje pliki cookies\n",
        "- Zwiększy okno przeglądarki na cały ekran\n",
        "- Zmieni język strony na angielski\n",
        "- Wejdzie w sekcję Business\n",
        "- Z sekcji business  ściągnie wszystkie tytuły do listy titles\n",
        "- Ściągnie wszystkie zdjęcia z tej sekcji na dysk lokalny\n",
        "- Zjedzie na dół strony\n",
        "- Przejdzie na ostatnią stronę i zwróci printem jej numer (atrybut text)"
      ],
      "metadata": {
        "id": "3UxgCN1Hd5Tz"
      }
    },
    {
      "cell_type": "code",
      "source": [
        "pip install selenium"
      ],
      "metadata": {
        "colab": {
          "base_uri": "https://localhost:8080/"
        },
        "id": "eDN9bDWcgmG4",
        "outputId": "91621fd3-d3c1-4d14-a012-215232612cbb"
      },
      "execution_count": null,
      "outputs": [
        {
          "output_type": "stream",
          "name": "stdout",
          "text": [
            "Requirement already satisfied: selenium in /usr/local/lib/python3.7/dist-packages (4.1.5)\n",
            "Requirement already satisfied: trio~=0.17 in /usr/local/lib/python3.7/dist-packages (from selenium) (0.20.0)\n",
            "Requirement already satisfied: urllib3[secure,socks]~=1.26 in /usr/local/lib/python3.7/dist-packages (from selenium) (1.26.9)\n",
            "Requirement already satisfied: trio-websocket~=0.9 in /usr/local/lib/python3.7/dist-packages (from selenium) (0.9.2)\n",
            "Requirement already satisfied: async-generator>=1.9 in /usr/local/lib/python3.7/dist-packages (from trio~=0.17->selenium) (1.10)\n",
            "Requirement already satisfied: sortedcontainers in /usr/local/lib/python3.7/dist-packages (from trio~=0.17->selenium) (2.4.0)\n",
            "Requirement already satisfied: attrs>=19.2.0 in /usr/local/lib/python3.7/dist-packages (from trio~=0.17->selenium) (21.4.0)\n",
            "Requirement already satisfied: sniffio in /usr/local/lib/python3.7/dist-packages (from trio~=0.17->selenium) (1.2.0)\n",
            "Requirement already satisfied: outcome in /usr/local/lib/python3.7/dist-packages (from trio~=0.17->selenium) (1.1.0)\n",
            "Requirement already satisfied: idna in /usr/local/lib/python3.7/dist-packages (from trio~=0.17->selenium) (2.10)\n",
            "Requirement already satisfied: wsproto>=0.14 in /usr/local/lib/python3.7/dist-packages (from trio-websocket~=0.9->selenium) (1.1.0)\n",
            "Requirement already satisfied: certifi in /usr/local/lib/python3.7/dist-packages (from urllib3[secure,socks]~=1.26->selenium) (2021.10.8)\n",
            "Requirement already satisfied: cryptography>=1.3.4 in /usr/local/lib/python3.7/dist-packages (from urllib3[secure,socks]~=1.26->selenium) (37.0.2)\n",
            "Requirement already satisfied: pyOpenSSL>=0.14 in /usr/local/lib/python3.7/dist-packages (from urllib3[secure,socks]~=1.26->selenium) (22.0.0)\n",
            "Requirement already satisfied: PySocks!=1.5.7,<2.0,>=1.5.6 in /usr/local/lib/python3.7/dist-packages (from urllib3[secure,socks]~=1.26->selenium) (1.7.1)\n",
            "Requirement already satisfied: cffi>=1.12 in /usr/local/lib/python3.7/dist-packages (from cryptography>=1.3.4->urllib3[secure,socks]~=1.26->selenium) (1.15.0)\n",
            "Requirement already satisfied: pycparser in /usr/local/lib/python3.7/dist-packages (from cffi>=1.12->cryptography>=1.3.4->urllib3[secure,socks]~=1.26->selenium) (2.21)\n",
            "Requirement already satisfied: h11<1,>=0.9.0 in /usr/local/lib/python3.7/dist-packages (from wsproto>=0.14->trio-websocket~=0.9->selenium) (0.13.0)\n",
            "Requirement already satisfied: typing-extensions in /usr/local/lib/python3.7/dist-packages (from h11<1,>=0.9.0->wsproto>=0.14->trio-websocket~=0.9->selenium) (4.2.0)\n"
          ]
        }
      ]
    },
    {
      "cell_type": "code",
      "execution_count": null,
      "metadata": {
        "id": "n68lWUIrj9ZA",
        "colab": {
          "base_uri": "https://localhost:8080/",
          "height": 373
        },
        "outputId": "d98c6149-c0c3-4c1a-be81-05302cf1e62f"
      },
      "outputs": [
        {
          "output_type": "error",
          "ename": "ModuleNotFoundError",
          "evalue": "ignored",
          "traceback": [
            "\u001b[0;31m---------------------------------------------------------------------------\u001b[0m",
            "\u001b[0;31mModuleNotFoundError\u001b[0m                       Traceback (most recent call last)",
            "\u001b[0;32m<ipython-input-21-862e582b9848>\u001b[0m in \u001b[0;36m<module>\u001b[0;34m()\u001b[0m\n\u001b[1;32m      1\u001b[0m \u001b[0;32mfrom\u001b[0m \u001b[0mstring\u001b[0m \u001b[0;32mimport\u001b[0m \u001b[0mprintable\u001b[0m\u001b[0;34m\u001b[0m\u001b[0;34m\u001b[0m\u001b[0m\n\u001b[1;32m      2\u001b[0m \u001b[0;32mfrom\u001b[0m \u001b[0mselenium\u001b[0m \u001b[0;32mimport\u001b[0m \u001b[0mwebdriver\u001b[0m\u001b[0;34m\u001b[0m\u001b[0;34m\u001b[0m\u001b[0m\n\u001b[0;32m----> 3\u001b[0;31m \u001b[0;32mfrom\u001b[0m \u001b[0mwebdriver_manager\u001b[0m\u001b[0;34m.\u001b[0m\u001b[0mchrome\u001b[0m \u001b[0;32mimport\u001b[0m \u001b[0mChromeDriverManager\u001b[0m\u001b[0;34m\u001b[0m\u001b[0;34m\u001b[0m\u001b[0m\n\u001b[0m\u001b[1;32m      4\u001b[0m \u001b[0;32mimport\u001b[0m \u001b[0mtime\u001b[0m\u001b[0;34m\u001b[0m\u001b[0;34m\u001b[0m\u001b[0m\n\u001b[1;32m      5\u001b[0m \u001b[0;32mimport\u001b[0m \u001b[0mrequests\u001b[0m\u001b[0;34m\u001b[0m\u001b[0;34m\u001b[0m\u001b[0m\n",
            "\u001b[0;31mModuleNotFoundError\u001b[0m: No module named 'webdriver_manager'",
            "",
            "\u001b[0;31m---------------------------------------------------------------------------\u001b[0;32m\nNOTE: If your import is failing due to a missing package, you can\nmanually install dependencies using either !pip or !apt.\n\nTo view examples of installing some common dependencies, click the\n\"Open Examples\" button below.\n\u001b[0;31m---------------------------------------------------------------------------\u001b[0m\n"
          ],
          "errorDetails": {
            "actions": [
              {
                "action": "open_url",
                "actionText": "Open Examples",
                "url": "/notebooks/snippets/importing_libraries.ipynb"
              }
            ]
          }
        }
      ],
      "source": [
        "from string import printable\n",
        "from selenium import webdriver\n",
        "from webdriver_manager.chrome import ChromeDriverManager\n",
        "import time\n",
        "import requests\n",
        "\n",
        "\n",
        "class Driver():\n",
        "\n",
        "\n",
        "  def __init__(self):\n",
        "    self.driver = webdriver.Chrome(ChromeDriverManager().install())\n",
        "    self.driver.get('https://www.pap.pl/')\n",
        "    self.titles = []\n",
        "\n",
        "  def begin(self):\n",
        "    self._cookies()\n",
        "    self._window()\n",
        "    time.sleep(1)\n",
        "    self._language()\n",
        "    self._business()\n",
        "    self._title()\n",
        "    self._img()\n",
        "    self._sc_down()\n",
        "    self._lst_page()\n",
        "    self.driver.quit()\n",
        "\n",
        "  def _language(self): self.driver.find_element_by_xpath('//*[@href=\"http://www.pap.pl/en\"]').click()\n",
        "\n",
        "  def _business(self): self.driver.find_element_by_xpath('//*[@href=\"/en/business\"]').click()\n",
        "\n",
        "  def _cookies(self): self.driver.find_element_by_xpath('//*[@class=\"ok closeButton\"]').click()\n",
        "\n",
        "  def _window(self): self.driver.maximize_window()\n",
        "\n",
        "  def _title(self): \n",
        "        with open('Zadanie_6\\\\titles.txt','w') as j:\n",
        "            for i in self.driver.find_elements_by_xpath('//*[@class=\"title\"]/a[not(@class)]'):\n",
        "                 j.write(i.text)\n",
        "                 j.write('\\n')\n",
        "            j.close()\n",
        "\n",
        "  def _img(self): \n",
        "        i = 0\n",
        "        for j in self.driver.find_elements_by_xpath('//*[@alt]'):\n",
        "            my_img = j.get_attribute('src')\n",
        "            content_img = requests.get(my_img).content\n",
        "            path = 'Zadanie_6\\\\imgs\\\\'+str(i)+\".jpg\"\n",
        "            f = open(path, 'wb')\n",
        "            f.write(content_img)\n",
        "            f.close\n",
        "            i +=1\n",
        "\n",
        "  def _sc_down(self): self.driver.execute_script(\"window.scrollTo(0, document.body.scrollHeight)\");\n",
        "\n",
        "  def _lst_page(self):\n",
        "        self.driver.find_element_by_xpath('//*[@rel=\"last\"]').click()\n",
        "        print(self.driver.find_element_by_xpath('//*[@title=\"Current page\"]').text) \n",
        "  \n",
        "Driver().begin()"
      ]
    },
    {
      "cell_type": "markdown",
      "source": [
        "#====== WebDriver manager ======\n",
        "Current google-chrome version is 101.0.4951\n",
        "Get LATEST chromedriver version for 101.0.4951 google-chrome\n",
        "Driver [C:\\Users\\Str00cker\\.wdm\\drivers\\chromedriver\\win32\\101.0.4951.41\\chromedriver.exe] found in cache\n",
        "c:/Users/Str00cker/Desktop/PAD/Zadanie_6/web_scrapping.py:12: DeprecationWarning: executable_path has been deprecated, please pass in a Service object\n",
        "  self.driver = webdriver.Chrome(ChromeDriverManager().install())\n",
        "\n",
        "DevTools listening on ws://127.0.0.1:60969/devtools/browser/a4779354-4a80-41a6-87a2-6605635af08c\n",
        "c:/Users/Str00cker/Desktop/PAD/Zadanie_6/web_scrapping.py:32: DeprecationWarning: find_element_by_xpath is deprecated. Please use find_element(by=By.XPATH, value=xpath) instead\n",
        "  def _cookies(self): self.driver.find_element_by_xpath('//*[@class=\"ok closeButton\"]').click()\n",
        "c:/Users/Str00cker/Desktop/PAD/Zadanie_6/web_scrapping.py:28: DeprecationWarning: find_element_by_xpath is deprecated. Please use find_element(by=By.XPATH, value=xpath) instead\n",
        "  def _language(self): self.driver.find_element_by_xpath('//*[@href=\"http://www.pap.pl/en\"]').click()\n",
        "c:/Users/Str00cker/Desktop/PAD/Zadanie_6/web_scrapping.py:30: DeprecationWarning: find_element_by_xpath is deprecated. Please use find_element(by=By.XPATH, value=xpath) instead\n",
        "  def _business(self): self.driver.find_element_by_xpath('//*[@href=\"/en/business\"]').click()\n",
        "c:/Users/Str00cker/Desktop/PAD/Zadanie_6/web_scrapping.py:38: DeprecationWarning: find_elements_by_xpath is deprecated. Please use find_elements(by=By.XPATH, value=xpath) instead\n",
        "  for i in self.driver.find_elements_by_xpath('//*[@class=\"title\"]/a[not(@class)]'):\n",
        "c:/Users/Str00cker/Desktop/PAD/Zadanie_6/web_scrapping.py:45: DeprecationWarning: find_elements_by_xpath is deprecated. Please use find_elements(by=By.XPATH, value=xpath) instead\n",
        "  for j in self.driver.find_elements_by_xpath('//*[@alt]'):\n",
        "c:/Users/Str00cker/Desktop/PAD/Zadanie_6/web_scrapping.py:57: DeprecationWarning: find_element_by_xpath is deprecated. Please use find_element(by=By.XPATH, value=xpath) instead\n",
        "  self.driver.find_element_by_xpath('//*[@rel=\"last\"]').click()\n",
        "c:/Users/Str00cker/Desktop/PAD/Zadanie_6/web_scrapping.py:58: DeprecationWarning: find_element_by_xpath is deprecated. Please use find_element(by=By.XPATH, value=xpath) instead\n",
        "  print(self.driver.find_element_by_xpath('//*[@title=\"Current page\"]').text)\n",
        "73"
      ],
      "metadata": {
        "id": "GzaHPaLKo6VJ"
      }
    }
  ]
}