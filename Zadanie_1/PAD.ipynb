{
 "cells": [
  {
   "cell_type": "code",
   "execution_count": 75,
   "metadata": {},
   "outputs": [],
   "source": [
    "class Animal():\n",
    "    def __init__(self, genus, gender):\n",
    "        self.isAlive = True\n",
    "        self.gender = gender\n",
    "        self.genus = genus\n",
    "\n",
    "    def breed(self, partner):\n",
    "        try:\n",
    "            if self.gender == \"Female\" and partner.gender == \"Male\" and self.genus == partner.genus:\n",
    "                return self\n",
    "        except AttributeError:\n",
    "            print(\"Attribute not found\")"
   ]
  },
  {
   "cell_type": "code",
   "execution_count": 76,
   "metadata": {},
   "outputs": [],
   "source": [
    "class Dog(Animal):\n",
    "    def __init__(self, genus = \"Canis\", gender = \"Female\"):\n",
    "        super().__init__(genus, gender)\n",
    "    def woof(self):\n",
    "        print(\"woof woof\")"
   ]
  },
  {
   "cell_type": "code",
   "execution_count": 77,
   "metadata": {},
   "outputs": [],
   "source": [
    "class Cat(Animal):\n",
    "    def __init__(self):\n",
    "        super().__init__(genus = \"Felis\")\n",
    "    def purr(self):\n",
    "        print(\"purr\")"
   ]
  },
  {
   "cell_type": "code",
   "execution_count": 81,
   "metadata": {},
   "outputs": [
    {
     "name": "stdout",
     "output_type": "stream",
     "text": [
      "woof woof\n"
     ]
    }
   ],
   "source": [
    "dog_F20 = Dog()\n",
    "dog_M23 = Dog(gender=\"Male\")\n",
    "\n",
    "dog = dog_F20.breed(dog_M23)\n",
    "dog.woof()\n"
   ]
  },
  {
   "cell_type": "code",
   "execution_count": 92,
   "metadata": {},
   "outputs": [],
   "source": [
    "class Worker():\n",
    "    def __init__(self, number, name, age, salary):\n",
    "        self.number = number\n",
    "        self.name = name\n",
    "        self.age = age\n",
    "        self.salary = salary"
   ]
  },
  {
   "cell_type": "code",
   "execution_count": 93,
   "metadata": {},
   "outputs": [],
   "source": [
    "workers = [\n",
    "Worker(1, \"Adam\", 1983, 1500),\n",
    "Worker(2, \"Anna\", 1981, 1700),\n",
    "Worker(3, \"Błażej\", 1990, 1800),\n",
    "Worker(4, \"Beata\", 1992, 1600),\n",
    "Worker(5, \"Czesław\", 1980, 2000),\n",
    "Worker(6, \"Celina\", 1983, 2100),\n",
    "Worker(7, \"Daniel\", 1976, 1900)]"
   ]
  },
  {
   "cell_type": "code",
   "execution_count": 95,
   "metadata": {},
   "outputs": [
    {
     "name": "stdout",
     "output_type": "stream",
     "text": [
      "1800.0\n"
     ]
    }
   ],
   "source": [
    "sum_sal = 0\n",
    "for worker in workers:\n",
    "   sum_sal +=  worker.salary\n",
    "avg_sal = sum_sal/len(workers)\n",
    "print(avg_sal)"
   ]
  },
  {
   "cell_type": "code",
   "execution_count": 110,
   "metadata": {},
   "outputs": [
    {
     "name": "stdout",
     "output_type": "stream",
     "text": [
      "1833.3333333333333\n",
      "1600.0\n"
     ]
    }
   ],
   "source": [
    "from datetime import date\n",
    "sum_sal_l30 = 0\n",
    "cl = 0\n",
    "sum_sal_g30 = 0\n",
    "cg = 0\n",
    "for worker in workers:\n",
    "    if date.today().year - worker.age <= 30:\n",
    "        sum_sal_l30 += worker.salary\n",
    "        cl += 1\n",
    "    else:\n",
    "        sum_sal_g30 += worker.salary\n",
    "        cg += 1\n",
    "avg_sal_g = sum_sal_g30/cg\n",
    "avg_sal_l = sum_sal_l30/cl\n",
    "print(avg_sal_g)\n",
    "print(avg_sal_l)\n"
   ]
  }
 ],
 "metadata": {
  "interpreter": {
   "hash": "57baa5815c940fdaff4d14510622de9616cae602444507ba5d0b6727c008cbd6"
  },
  "kernelspec": {
   "display_name": "Python 3.7.5 64-bit",
   "language": "python",
   "name": "python3"
  },
  "language_info": {
   "codemirror_mode": {
    "name": "ipython",
    "version": 3
   },
   "file_extension": ".py",
   "mimetype": "text/x-python",
   "name": "python",
   "nbconvert_exporter": "python",
   "pygments_lexer": "ipython3",
   "version": "3.7.5"
  },
  "orig_nbformat": 4
 },
 "nbformat": 4,
 "nbformat_minor": 2
}
