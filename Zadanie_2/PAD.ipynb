{
 "cells": [
  {
   "cell_type": "code",
   "execution_count": 10,
   "metadata": {},
   "outputs": [
    {
     "name": "stdout",
     "output_type": "stream",
     "text": [
      "[{'make': 'Mi Max', 'model': 2, 'color': 'Gold'}, {'make': 'Nokia', 'model': 216, 'color': 'Black'}, {'make': 'Samsung', 'model': 7, 'color': 'Blue'}]\n"
     ]
    }
   ],
   "source": [
    "lst = [{'make': 'Nokia', 'model': 216, 'color': 'Black'}, \n",
    "{'make': 'Mi Max', 'model': 2, 'color': 'Gold'}, \n",
    "{'make': 'Samsung', 'model': 7, 'color': 'Blue'}]\n",
    "lst.sort(key=lambda x:x['make'])\n",
    "print(lst)"
   ]
  },
  {
   "cell_type": "code",
   "execution_count": 12,
   "metadata": {},
   "outputs": [
    {
     "name": "stdout",
     "output_type": "stream",
     "text": [
      "List of Ints\n",
      "[1, 2, 3, 4, 5, 6, 7, 8, 9, 10]\n",
      "List of squares\n",
      "[1, 4, 9, 16, 25, 36, 49, 64, 81, 100]\n",
      "List of cubes\n",
      "[1, 8, 27, 64, 125, 216, 343, 512, 729, 1000]\n"
     ]
    }
   ],
   "source": [
    "nums = [1, 2, 3, 4, 5, 6, 7, 8, 9, 10]\n",
    "print(\"List of Ints\")\n",
    "print(nums)\n",
    "squas = list(map(lambda x: x ** 2, nums))\n",
    "print(\"List of squares\")\n",
    "print(squas)\n",
    "cubs = list(map(lambda x:x ** 3, nums))\n",
    "print(\"List of cubes\")\n",
    "print(cubs)"
   ]
  },
  {
   "cell_type": "markdown",
   "metadata": {},
   "source": [
    "\n"
   ]
  }
 ],
 "metadata": {
  "interpreter": {
   "hash": "57baa5815c940fdaff4d14510622de9616cae602444507ba5d0b6727c008cbd6"
  },
  "kernelspec": {
   "display_name": "Python 3.7.5 64-bit",
   "language": "python",
   "name": "python3"
  },
  "language_info": {
   "codemirror_mode": {
    "name": "ipython",
    "version": 3
   },
   "file_extension": ".py",
   "mimetype": "text/x-python",
   "name": "python",
   "nbconvert_exporter": "python",
   "pygments_lexer": "ipython3",
   "version": "3.7.5"
  },
  "orig_nbformat": 4
 },
 "nbformat": 4,
 "nbformat_minor": 2
}
